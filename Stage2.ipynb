{
 "cells": [
  {
   "cell_type": "code",
   "execution_count": null,
   "metadata": {},
   "outputs": [],
   "source": [
    "class Function:\n",
    "    def __call__(self, input):\n",
    "        x=input.data\n",
    "        y=self.forward(x)\n",
    "        output=Variable(as_array(y))\n",
    "        output.set_creator(self)\n",
    "        self.input=input\n",
    "        self.output=output\n",
    "        return output\n",
    "    \n",
    "    def forward(self,x):\n",
    "        raise NotImplementedError()\n",
    "    \n",
    "    def backward(self,gy):\n",
    "        raise NotImplementedError()"
   ]
  }
 ],
 "metadata": {
  "kernelspec": {
   "display_name": "Python 3",
   "language": "python",
   "name": "python3"
  },
  "language_info": {
   "codemirror_mode": {
    "name": "ipython",
    "version": 3
   },
   "file_extension": ".py",
   "mimetype": "text/x-python",
   "name": "python",
   "nbconvert_exporter": "python",
   "pygments_lexer": "ipython3",
   "version": "3.7.6"
  }
 },
 "nbformat": 4,
 "nbformat_minor": 4
}
