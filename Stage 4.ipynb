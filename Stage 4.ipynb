{
 "cells": [
  {
   "cell_type": "markdown",
   "metadata": {},
   "source": [
    "# Step 38"
   ]
  },
  {
   "cell_type": "code",
   "execution_count": 1,
   "metadata": {},
   "outputs": [
    {
     "name": "stdout",
     "output_type": "stream",
     "text": [
      "variable([[1 1 1]\n",
      "          [1 1 1]])\n"
     ]
    }
   ],
   "source": [
    "import numpy as np\n",
    "from dezero import Variable\n",
    "import dezero.functions as F\n",
    "\n",
    "x = Variable(np.array([[1,2,3], [4,5,6]]))\n",
    "y = F.reshape(x, (6,))\n",
    "y.backward(retain_grad=True)\n",
    "print(x.grad)"
   ]
  },
  {
   "cell_type": "code",
   "execution_count": 1,
   "metadata": {
    "scrolled": true
   },
   "outputs": [],
   "source": [
    "from dezero import Variable\n",
    "import numpy as np\n",
    "x = Variable(np.random.rand(2,3))\n",
    "y = x.transpose()\n",
    "y = x.T\n"
   ]
  },
  {
   "cell_type": "code",
   "execution_count": 2,
   "metadata": {},
   "outputs": [
    {
     "data": {
      "text/plain": [
       "variable([[0.00826873 0.90630807]\n",
       "          [0.3626143  0.94167801]\n",
       "          [0.99584578 0.32714422]])"
      ]
     },
     "execution_count": 2,
     "metadata": {},
     "output_type": "execute_result"
    }
   ],
   "source": [
    "y"
   ]
  },
  {
   "cell_type": "code",
   "execution_count": 3,
   "metadata": {
    "scrolled": true
   },
   "outputs": [
    {
     "data": {
      "text/plain": [
       "variable([[0.00826873 0.3626143  0.99584578]\n",
       "          [0.90630807 0.94167801 0.32714422]])"
      ]
     },
     "execution_count": 3,
     "metadata": {},
     "output_type": "execute_result"
    }
   ],
   "source": [
    "x"
   ]
  },
  {
   "cell_type": "markdown",
   "metadata": {},
   "source": [
    "# Step 40"
   ]
  },
  {
   "cell_type": "code",
   "execution_count": 1,
   "metadata": {
    "scrolled": true
   },
   "outputs": [
    {
     "name": "stdout",
     "output_type": "stream",
     "text": [
      "variable([11 12 13])\n",
      "variable([3])\n"
     ]
    }
   ],
   "source": [
    "import numpy as np\n",
    "from dezero import Variable\n",
    "\n",
    "x0 = Variable(np.array([1,2,3]))\n",
    "x1 = Variable(np.array([10]))\n",
    "y = x0 + x1\n",
    "print(y)\n",
    "\n",
    "y.backward()\n",
    "print(x1.grad)"
   ]
  },
  {
   "cell_type": "markdown",
   "metadata": {},
   "source": [
    "# Step 41"
   ]
  },
  {
   "cell_type": "code",
   "execution_count": 2,
   "metadata": {},
   "outputs": [
    {
     "name": "stdout",
     "output_type": "stream",
     "text": [
      "(2, 3)\n",
      "(3, 4)\n"
     ]
    }
   ],
   "source": [
    "from dezero import Variable\n",
    "import dezero.functions as F\n",
    "import numpy as np\n",
    "\n",
    "x = Variable(np.random.randn(2, 3))\n",
    "W = Variable(np.random.randn(3, 4))\n",
    "y = F.matmul(x, W)\n",
    "y.backward()\n",
    "\n",
    "print(x.grad.shape)\n",
    "print(W.grad.shape)"
   ]
  },
  {
   "cell_type": "markdown",
   "metadata": {},
   "source": [
    "# Step 42"
   ]
  },
  {
   "cell_type": "code",
   "execution_count": 3,
   "metadata": {},
   "outputs": [],
   "source": [
    "import numpy as np\n",
    "\n",
    "np.random.seed(0)\n",
    "x = np.random.rand(100, 1)\n",
    "y = 5 + 2 * x + np.random.rand(100, 1)"
   ]
  },
  {
   "cell_type": "code",
   "execution_count": 5,
   "metadata": {},
   "outputs": [
    {
     "data": {
      "text/plain": [
       "[<matplotlib.lines.Line2D at 0x205bcb113c8>]"
      ]
     },
     "execution_count": 5,
     "metadata": {},
     "output_type": "execute_result"
    },
    {
     "data": {
      "image/png": "[encoded data removed]",
      "text/plain": [
       "<Figure size 432x288 with 1 Axes>"
      ]
     },
     "metadata": {
      "needs_background": "light"
     },
     "output_type": "display_data"
    }
   ],
   "source": [
    "import matplotlib.pyplot as plt\n",
    "plt.plot(x, y, 'o')"
   ]
  },
  {
   "cell_type": "code",
   "execution_count": 1,
   "metadata": {},
   "outputs": [],
   "source": [
    "from dezero import Variable\n",
    "import dezero.functions as F\n",
    "import numpy as np\n",
    "\n",
    "np.random.seed(0)\n",
    "x = np.random.rand(100, 1)\n",
    "y = 5 + 2 * x + np.random.rand(100, 1)\n",
    "x, y = Variable(x), Variable(y)\n",
    "\n",
    "W = Variable(np.zeros((1,1)))\n",
    "b = Variable(np.zeros(1))\n",
    "\n",
    "def predict(x):\n",
    "    y = F.matmul(x, W) + b\n",
    "    return y"
   ]
  },
  {
   "cell_type": "code",
   "execution_count": 3,
   "metadata": {
    "scrolled": true
   },
   "outputs": [
    {
     "name": "stdout",
     "output_type": "stream",
     "text": [
      "variable([[1.12672345]]) variable([2.26959351]) variable(23.97380754378544)\n",
      "variable([[1.48734571]]) variable([3.00386712]) variable(13.609686745040522)\n",
      "variable([[1.75641886]]) variable([3.557186]) variable(7.747049961219976)\n",
      "variable([[1.95666851]]) variable([3.97439789]) variable(4.43057410592155)\n",
      "variable([[2.10518573]]) variable([4.28923203]) variable(2.5542803813535926)\n",
      "variable([[2.21482401]]) variable([4.52705574]) variable(1.4925998690471942)\n",
      "variable([[2.29524981]]) variable([4.70694745]) variable(0.8916952181756932)\n",
      "variable([[2.35373273]]) variable([4.84325585]) variable(0.5514270962227453)\n",
      "variable([[2.39573972]]) variable([4.9467725]) variable(0.35859153083192785)\n",
      "variable([[2.425382]]) variable([5.02561369]) variable(0.2491573197756112)\n",
      "variable([[2.44575118]]) variable([5.08588371]) variable(0.18690658765397886)\n",
      "variable([[2.45917205]]) variable([5.13217364]) variable(0.15135336296314875)\n",
      "variable([[2.4673927]]) variable([5.16793652]) variable(0.13091003006317078)\n",
      "variable([[2.47172747]]) variable([5.19576949]) variable(0.11902210735018462)\n",
      "variable([[2.47316455]]) variable([5.21762597]) variable(0.11198198322254362)\n",
      "variable([[2.47244676]]) variable([5.23497527]) variable(0.10769231158094322)\n",
      "variable([[2.47013247]]) variable([5.24892259]) variable(0.10496655795675108)\n",
      "variable([[2.46664127]]) variable([5.26029927]) variable(0.10313337115761934)\n",
      "variable([[2.46228843]]) variable([5.26973075]) variable(0.10181280604960247)\n",
      "variable([[2.45731071]]) variable([5.27768752]) variable(0.10078974954301653)\n",
      "variable([[2.4518859]]) variable([5.28452363]) variable(0.09994232708821608)\n",
      "variable([[2.44614738]]) variable([5.29050548]) variable(0.09920140749444824)\n",
      "variable([[2.44019517]]) variable([5.29583359]) variable(0.09852769772358987)\n",
      "variable([[2.4341042]]) variable([5.30065891]) variable(0.09789878700703991)\n",
      "variable([[2.4279305]]) variable([5.30509512]) variable(0.09730181854646197)\n",
      "variable([[2.42171596]]) variable([5.30922787]) variable(0.0967293443169877)\n",
      "variable([[2.41549177]]) variable([5.3131217]) variable(0.09617698031441604)\n",
      "variable([[2.40928112]]) variable([5.31682532]) variable(0.09564208018092028)\n",
      "variable([[2.40310116]]) variable([5.32037549]) variable(0.09512298485383605)\n",
      "variable([[2.39696452]]) variable([5.3238]) variable(0.09461859803040694)\n",
      "variable([[2.39088043]]) variable([5.32711987]) variable(0.09412814592514404)\n",
      "variable([[2.38485555]]) variable([5.33035108]) variable(0.09365104127065577)\n",
      "variable([[2.37889464]]) variable([5.33350575]) variable(0.09318680628411545)\n",
      "variable([[2.37300101]]) variable([5.33659314]) variable(0.09273502898904006)\n",
      "variable([[2.3671769]]) variable([5.33962035]) variable(0.09229533840647547)\n",
      "variable([[2.36142374]]) variable([5.34259283]) variable(0.09186739042193233)\n",
      "variable([[2.35574235]]) variable([5.34551483]) variable(0.09145085969346782)\n",
      "variable([[2.35013309]]) variable([5.34838966]) variable(0.09104543497939387)\n",
      "variable([[2.34459602]]) variable([5.35121993]) variable(0.09065081640275062)\n",
      "variable([[2.33913091]]) variable([5.35400772]) variable(0.0902667138137311)\n",
      "variable([[2.33373736]]) variable([5.35675472]) variable(0.08989284577554084)\n",
      "variable([[2.32841486]]) variable([5.35946234]) variable(0.0895289389052284)\n",
      "variable([[2.32316275]]) variable([5.36213172]) variable(0.08917472741757472)\n",
      "variable([[2.31798034]]) variable([5.36476385]) variable(0.08882995278605695)\n",
      "variable([[2.31286689]]) variable([5.3673596]) variable(0.08849436347219049)\n",
      "variable([[2.30782159]]) variable([5.36991973]) variable(0.08816771469564999)\n",
      "variable([[2.30284363]]) variable([5.3724449]) variable(0.08784976822950144)\n",
      "variable([[2.29793221]]) variable([5.37493575]) variable(0.08754029221162851)\n",
      "variable([[2.29308646]]) variable([5.37739285]) variable(0.08723906096725743)\n",
      "variable([[2.28830557]]) variable([5.37981674]) variable(0.08694585483964615)\n",
      "variable([[2.2835887]]) variable([5.38220792]) variable(0.0866604600272269)\n",
      "variable([[2.278935]]) variable([5.38456689]) variable(0.08638266842618712)\n",
      "variable([[2.27434366]]) variable([5.38689411]) variable(0.0861122774778659)\n",
      "variable([[2.26981384]]) variable([5.38919004]) variable(0.08584909002056745)\n",
      "variable([[2.26534474]]) variable([5.39145512]) variable(0.08559291414552149)\n",
      "variable([[2.26093555]]) variable([5.39368978]) variable(0.08534356305679344)\n",
      "variable([[2.25658547]]) variable([5.39589443]) variable(0.08510085493499035)\n",
      "variable([[2.25229371]]) variable([5.39806949]) variable(0.08486461280463413)\n",
      "variable([[2.2480595]]) variable([5.40021536]) variable(0.08463466440508784)\n",
      "variable([[2.24388206]]) variable([5.40233244]) variable(0.08441084206493275)\n",
      "variable([[2.23976064]]) variable([5.40442111]) variable(0.08419298257969864)\n",
      "variable([[2.23569448]]) variable([5.40648177]) variable(0.08398092709285435)\n",
      "variable([[2.23168285]]) variable([5.40851479]) variable(0.08377452097997208)\n",
      "variable([[2.22772501]]) variable([5.41052054]) variable(0.08357361373597812)\n",
      "variable([[2.22382025]]) variable([5.41249938]) variable(0.08337805886540826)\n",
      "variable([[2.21996785]]) variable([5.41445169]) variable(0.08318771377558704)\n",
      "variable([[2.21616712]]) variable([5.41637782]) variable(0.08300243967265336)\n",
      "variable([[2.21241735]]) variable([5.41827811]) variable(0.08282210146035615)\n",
      "variable([[2.20871786]]) variable([5.42015291]) variable(0.08264656764154595)\n",
      "variable([[2.20506799]]) variable([5.42200258]) variable(0.08247571022229121)\n",
      "variable([[2.20146706]]) variable([5.42382744]) variable(0.08230940461854906)\n",
      "variable([[2.19791443]]) variable([5.42562782]) variable(0.08214752956532231)\n",
      "variable([[2.19440943]]) variable([5.42740407]) variable(0.08198996702823673)\n",
      "variable([[2.19095144]]) variable([5.42915649]) variable(0.08183660211747391)\n",
      "variable([[2.18753983]]) variable([5.43088541]) variable(0.08168732300399718)\n",
      "variable([[2.18417396]]) variable([5.43259114]) variable(0.08154202083800904)\n",
      "variable([[2.18085323]]) variable([5.434274]) variable(0.08140058966958151)\n",
      "variable([[2.17757703]]) variable([5.4359343]) variable(0.08126292637140048)\n",
      "variable([[2.17434477]]) variable([5.43757232]) variable(0.0811289305635685)\n",
      "variable([[2.17115586]]) variable([5.43918838]) variable(0.08099850454041051)\n",
      "variable([[2.16800971]]) variable([5.44078277]) variable(0.0808715531992303)\n",
      "variable([[2.16490575]]) variable([5.44235578]) variable(0.08074798397096412)\n",
      "variable([[2.16184341]]) variable([5.44390769]) variable(0.08062770675268231)\n",
      "variable([[2.15882214]]) variable([5.44543879]) variable(0.08051063384188899)\n",
      "variable([[2.15584139]]) variable([5.44694936]) variable(0.08039667987257197)\n",
      "variable([[2.15290062]]) variable([5.44843967]) variable(0.08028576175295649)\n",
      "variable([[2.14999928]]) variable([5.44990999]) variable(0.08017779860491725)\n",
      "variable([[2.14713684]]) variable([5.4513606]) variable(0.08007271170500452)\n",
      "variable([[2.1443128]]) variable([5.45279175]) variable(0.07997042442704135)\n",
      "variable([[2.14152662]]) variable([5.45420371]) variable(0.07987086218625004)\n",
      "variable([[2.13877781]]) variable([5.45559674]) variable(0.07977395238486742)\n",
      "variable([[2.13606587]]) variable([5.45697108]) variable(0.07967962435920853)\n",
      "variable([[2.13339029]]) variable([5.458327]) variable(0.07958780932814088)\n",
      "variable([[2.13075059]]) variable([5.45966473]) variable(0.07949844034293135)\n",
      "variable([[2.12814629]]) variable([5.46098452]) variable(0.07941145223842926)\n",
      "variable([[2.12557692]]) variable([5.46228661]) variable(0.07932678158554966)\n",
      "variable([[2.123042]]) variable([5.46357124]) variable(0.07924436664502324)\n",
      "variable([[2.12054108]]) variable([5.46483864]) variable(0.07916414732237737)\n",
      "variable([[2.11807369]]) variable([5.46608905]) variable(0.07908606512411756)\n",
      "variable([[2.11563939]]) variable([5.46732269]) variable(0.07901006311507543)\n"
     ]
    }
   ],
   "source": [
    "def mean_squared_error(x0, x1):\n",
    "    diff = x0 - x1\n",
    "    return F.sum(diff ** 2) / len(diff)\n",
    "\n",
    "lr = 0.1\n",
    "iters = 100\n",
    "\n",
    "for i in range(iters):\n",
    "    y_pred = predict(x)\n",
    "    loss = mean_squared_error(y, y_pred)\n",
    "    \n",
    "    W.cleargrad()\n",
    "    b.cleargrad()\n",
    "    loss.backward()\n",
    "    \n",
    "    W.data -= lr * W.grad.data\n",
    "    b.data -= lr * b.grad.data\n",
    "    print(W, b, loss)"
   ]
  },
  {
   "cell_type": "markdown",
   "metadata": {},
   "source": [
    "# Step 43"
   ]
  },
  {
   "cell_type": "code",
   "execution_count": 5,
   "metadata": {},
   "outputs": [],
   "source": [
    "import numpy as np\n",
    "np.random.seed(0)\n",
    "x = np.random.rand(100, 1)\n",
    "y = np.sin(2 * np.pi * x) + np.random.rand(100,1)"
   ]
  },
  {
   "cell_type": "code",
   "execution_count": 8,
   "metadata": {
    "scrolled": true
   },
   "outputs": [
    {
     "data": {
      "text/plain": [
       "[<matplotlib.lines.Line2D at 0x1f4d054c388>]"
      ]
     },
     "execution_count": 8,
     "metadata": {},
     "output_type": "execute_result"
    },
    {
     "data": {
      "image/png": "[encoded data removed]",
      "text/plain": [
       "<Figure size 432x288 with 1 Axes>"
      ]
     },
     "metadata": {
      "needs_background": "light"
     },
     "output_type": "display_data"
    }
   ],
   "source": [
    "import matplotlib.pyplot as plt\n",
    "plt.plot(x, y, 'o')"
   ]
  },
  {
   "cell_type": "code",
   "execution_count": 1,
   "metadata": {},
   "outputs": [
    {
     "ename": "NameError",
     "evalue": "name 'cuda' is not defined",
     "output_type": "error",
     "traceback": [
      "\u001b[1;31m---------------------------------------------------------------------------\u001b[0m",
      "\u001b[1;31mNameError\u001b[0m                                 Traceback (most recent call last)",
      "\u001b[1;32m<ipython-input-1-9c468d740d1b>\u001b[0m in \u001b[0;36m<module>\u001b[1;34m\u001b[0m\n\u001b[0;32m     23\u001b[0m \u001b[1;33m\u001b[0m\u001b[0m\n\u001b[0;32m     24\u001b[0m \u001b[1;32mfor\u001b[0m \u001b[0mi\u001b[0m \u001b[1;32min\u001b[0m \u001b[0mrange\u001b[0m\u001b[1;33m(\u001b[0m\u001b[0miters\u001b[0m\u001b[1;33m)\u001b[0m\u001b[1;33m:\u001b[0m\u001b[1;33m\u001b[0m\u001b[1;33m\u001b[0m\u001b[0m\n\u001b[1;32m---> 25\u001b[1;33m     \u001b[0my_pred\u001b[0m \u001b[1;33m=\u001b[0m \u001b[0mpredict\u001b[0m\u001b[1;33m(\u001b[0m\u001b[0mx\u001b[0m\u001b[1;33m)\u001b[0m\u001b[1;33m\u001b[0m\u001b[1;33m\u001b[0m\u001b[0m\n\u001b[0m\u001b[0;32m     26\u001b[0m     \u001b[0mloss\u001b[0m \u001b[1;33m=\u001b[0m \u001b[0mF\u001b[0m\u001b[1;33m.\u001b[0m\u001b[0mmean_squared_error\u001b[0m\u001b[1;33m(\u001b[0m\u001b[0my\u001b[0m\u001b[1;33m,\u001b[0m \u001b[0my_pred\u001b[0m\u001b[1;33m)\u001b[0m\u001b[1;33m\u001b[0m\u001b[1;33m\u001b[0m\u001b[0m\n\u001b[0;32m     27\u001b[0m \u001b[1;33m\u001b[0m\u001b[0m\n",
      "\u001b[1;32m<ipython-input-1-9c468d740d1b>\u001b[0m in \u001b[0;36mpredict\u001b[1;34m(x)\u001b[0m\n\u001b[0;32m     15\u001b[0m \u001b[1;32mdef\u001b[0m \u001b[0mpredict\u001b[0m\u001b[1;33m(\u001b[0m\u001b[0mx\u001b[0m\u001b[1;33m)\u001b[0m\u001b[1;33m:\u001b[0m\u001b[1;33m\u001b[0m\u001b[1;33m\u001b[0m\u001b[0m\n\u001b[0;32m     16\u001b[0m     \u001b[0my\u001b[0m \u001b[1;33m=\u001b[0m \u001b[0mF\u001b[0m\u001b[1;33m.\u001b[0m\u001b[0mlinear\u001b[0m\u001b[1;33m(\u001b[0m\u001b[0mx\u001b[0m\u001b[1;33m,\u001b[0m \u001b[0mW1\u001b[0m\u001b[1;33m,\u001b[0m \u001b[0mb1\u001b[0m\u001b[1;33m)\u001b[0m\u001b[1;33m\u001b[0m\u001b[1;33m\u001b[0m\u001b[0m\n\u001b[1;32m---> 17\u001b[1;33m     \u001b[0my\u001b[0m \u001b[1;33m=\u001b[0m \u001b[0mF\u001b[0m\u001b[1;33m.\u001b[0m\u001b[0msigmoid\u001b[0m\u001b[1;33m(\u001b[0m\u001b[0my\u001b[0m\u001b[1;33m)\u001b[0m\u001b[1;33m\u001b[0m\u001b[1;33m\u001b[0m\u001b[0m\n\u001b[0m\u001b[0;32m     18\u001b[0m     \u001b[0my\u001b[0m \u001b[1;33m=\u001b[0m \u001b[0mF\u001b[0m\u001b[1;33m.\u001b[0m\u001b[0mlinear\u001b[0m\u001b[1;33m(\u001b[0m\u001b[0my\u001b[0m\u001b[1;33m,\u001b[0m \u001b[0mW2\u001b[0m\u001b[1;33m,\u001b[0m \u001b[0mb2\u001b[0m\u001b[1;33m)\u001b[0m\u001b[1;33m\u001b[0m\u001b[1;33m\u001b[0m\u001b[0m\n\u001b[0;32m     19\u001b[0m     \u001b[1;32mreturn\u001b[0m \u001b[0my\u001b[0m\u001b[1;33m\u001b[0m\u001b[1;33m\u001b[0m\u001b[0m\n",
      "\u001b[1;32m~\\Documents\\GitHub\\DeZero\\dezero\\functions.py\u001b[0m in \u001b[0;36msigmoid\u001b[1;34m(x)\u001b[0m\n\u001b[0;32m    207\u001b[0m \u001b[1;33m\u001b[0m\u001b[0m\n\u001b[0;32m    208\u001b[0m \u001b[1;32mdef\u001b[0m \u001b[0msigmoid\u001b[0m\u001b[1;33m(\u001b[0m\u001b[0mx\u001b[0m\u001b[1;33m)\u001b[0m\u001b[1;33m:\u001b[0m\u001b[1;33m\u001b[0m\u001b[1;33m\u001b[0m\u001b[0m\n\u001b[1;32m--> 209\u001b[1;33m     \u001b[1;32mreturn\u001b[0m \u001b[0mSigmoid\u001b[0m\u001b[1;33m(\u001b[0m\u001b[1;33m)\u001b[0m\u001b[1;33m(\u001b[0m\u001b[0mx\u001b[0m\u001b[1;33m)\u001b[0m\u001b[1;33m\u001b[0m\u001b[1;33m\u001b[0m\u001b[0m\n\u001b[0m\u001b[0;32m    210\u001b[0m \u001b[1;33m\u001b[0m\u001b[0m\n\u001b[0;32m    211\u001b[0m \u001b[1;32mclass\u001b[0m \u001b[0mReLU\u001b[0m\u001b[1;33m(\u001b[0m\u001b[0mFunction\u001b[0m\u001b[1;33m)\u001b[0m\u001b[1;33m:\u001b[0m\u001b[1;33m\u001b[0m\u001b[1;33m\u001b[0m\u001b[0m\n",
      "\u001b[1;32m~\\Documents\\GitHub\\DeZero\\dezero\\core.py\u001b[0m in \u001b[0;36m__call__\u001b[1;34m(self, *inputs)\u001b[0m\n\u001b[0;32m    119\u001b[0m \u001b[1;33m\u001b[0m\u001b[0m\n\u001b[0;32m    120\u001b[0m         \u001b[0mxs\u001b[0m\u001b[1;33m=\u001b[0m\u001b[1;33m[\u001b[0m\u001b[0mx\u001b[0m\u001b[1;33m.\u001b[0m\u001b[0mdata\u001b[0m \u001b[1;32mfor\u001b[0m \u001b[0mx\u001b[0m \u001b[1;32min\u001b[0m \u001b[0minputs\u001b[0m\u001b[1;33m]\u001b[0m  \u001b[1;31m#assuming inputs is Variable class instance and multiple argument could be passed (ex. add function)\u001b[0m\u001b[1;33m\u001b[0m\u001b[1;33m\u001b[0m\u001b[0m\n\u001b[1;32m--> 121\u001b[1;33m         \u001b[0mys\u001b[0m\u001b[1;33m=\u001b[0m\u001b[0mself\u001b[0m\u001b[1;33m.\u001b[0m\u001b[0mforward\u001b[0m\u001b[1;33m(\u001b[0m\u001b[1;33m*\u001b[0m\u001b[0mxs\u001b[0m\u001b[1;33m)\u001b[0m \u001b[1;31m#forward calculation is coded in succeeding class (ex. Square)\u001b[0m\u001b[1;33m\u001b[0m\u001b[1;33m\u001b[0m\u001b[0m\n\u001b[0m\u001b[0;32m    122\u001b[0m         \u001b[1;32mif\u001b[0m \u001b[1;32mnot\u001b[0m \u001b[0misinstance\u001b[0m\u001b[1;33m(\u001b[0m\u001b[0mys\u001b[0m\u001b[1;33m,\u001b[0m \u001b[0mtuple\u001b[0m\u001b[1;33m)\u001b[0m\u001b[1;33m:\u001b[0m \u001b[1;31m#ys (output of forward calculation) must be tuple\u001b[0m\u001b[1;33m\u001b[0m\u001b[1;33m\u001b[0m\u001b[0m\n\u001b[0;32m    123\u001b[0m             \u001b[0mys\u001b[0m\u001b[1;33m=\u001b[0m\u001b[1;33m(\u001b[0m\u001b[0mys\u001b[0m\u001b[1;33m,\u001b[0m\u001b[1;33m)\u001b[0m\u001b[1;33m\u001b[0m\u001b[1;33m\u001b[0m\u001b[0m\n",
      "\u001b[1;32m~\\Documents\\GitHub\\DeZero\\dezero\\functions.py\u001b[0m in \u001b[0;36mforward\u001b[1;34m(self, x)\u001b[0m\n\u001b[0;32m    197\u001b[0m \u001b[1;32mclass\u001b[0m \u001b[0mSigmoid\u001b[0m\u001b[1;33m(\u001b[0m\u001b[0mFunction\u001b[0m\u001b[1;33m)\u001b[0m\u001b[1;33m:\u001b[0m\u001b[1;33m\u001b[0m\u001b[1;33m\u001b[0m\u001b[0m\n\u001b[0;32m    198\u001b[0m     \u001b[1;32mdef\u001b[0m \u001b[0mforward\u001b[0m\u001b[1;33m(\u001b[0m\u001b[0mself\u001b[0m\u001b[1;33m,\u001b[0m \u001b[0mx\u001b[0m\u001b[1;33m)\u001b[0m\u001b[1;33m:\u001b[0m\u001b[1;33m\u001b[0m\u001b[1;33m\u001b[0m\u001b[0m\n\u001b[1;32m--> 199\u001b[1;33m         \u001b[0mxp\u001b[0m \u001b[1;33m=\u001b[0m \u001b[0mcuda\u001b[0m\u001b[1;33m.\u001b[0m\u001b[0mget_array_module\u001b[0m\u001b[1;33m(\u001b[0m\u001b[0mx\u001b[0m\u001b[1;33m)\u001b[0m\u001b[1;33m\u001b[0m\u001b[1;33m\u001b[0m\u001b[0m\n\u001b[0m\u001b[0;32m    200\u001b[0m         \u001b[0my\u001b[0m \u001b[1;33m=\u001b[0m \u001b[0mxp\u001b[0m\u001b[1;33m.\u001b[0m\u001b[0mtanh\u001b[0m\u001b[1;33m(\u001b[0m\u001b[0mx\u001b[0m \u001b[1;33m*\u001b[0m \u001b[1;36m0.5\u001b[0m\u001b[1;33m)\u001b[0m \u001b[1;33m*\u001b[0m \u001b[1;36m0.5\u001b[0m \u001b[1;33m+\u001b[0m \u001b[1;36m0.5\u001b[0m\u001b[1;33m\u001b[0m\u001b[1;33m\u001b[0m\u001b[0m\n\u001b[0;32m    201\u001b[0m         \u001b[1;32mreturn\u001b[0m \u001b[0my\u001b[0m\u001b[1;33m\u001b[0m\u001b[1;33m\u001b[0m\u001b[0m\n",
      "\u001b[1;31mNameError\u001b[0m: name 'cuda' is not defined"
     ]
    }
   ],
   "source": [
    "import numpy as np\n",
    "from dezero import Variable\n",
    "import dezero.functions as F\n",
    "\n",
    "np.random.seed(0)\n",
    "x = np.random.rand(100, 1)\n",
    "y = np.sin(2 * np.pi * x) + np.random.rand(100, 1)\n",
    "\n",
    "I, H, O = 1, 10, 1\n",
    "W1 = Variable(0.01 * np.random.randn(I, H))\n",
    "b1 = Variable(np.zeros(H))\n",
    "W2 = Variable(0.01 * np.random.randn(H, O))\n",
    "b2 = Variable(np.zeros(O))\n",
    "\n",
    "def predict(x):\n",
    "    y = F.linear(x, W1, b1)\n",
    "    y = F.sigmoid(y)\n",
    "    y = F.linear(y, W2, b2)\n",
    "    return y\n",
    "\n",
    "lr = 0.2\n",
    "iters = 1000\n",
    "\n",
    "for i in range(iters):\n",
    "    y_pred = predict(x)\n",
    "    loss = F.mean_squared_error(y, y_pred)\n",
    "    \n",
    "    W1.cleargrad()\n",
    "    b1.cleargrad()\n",
    "    W2.cleargrad()\n",
    "    b2.cleargrad()\n",
    "    loss.backward()\n",
    "    \n",
    "    W1.data -= lr * W1.grad.data\n",
    "    b1.data -= lr * b1.grad.data\n",
    "    W2.data -= lr * W2.grad.data\n",
    "    b2.data -= lr * b2.grad.data\n",
    "    if i % 1000 == 0:\n",
    "        print(loss)"
   ]
  },
  {
   "cell_type": "markdown",
   "metadata": {},
   "source": [
    "# Step 45"
   ]
  },
  {
   "cell_type": "code",
   "execution_count": null,
   "metadata": {},
   "outputs": [],
   "source": [
    "from dezero.layers as L\n",
    "import dezero.functions as F\n",
    "from dezero import Layer\n",
    "\n",
    "model = Layer()\n",
    "model.l1 = L.Linear(5)\n",
    "model.l2 = L.Linear(3)\n",
    "\n",
    "def predict(model, x):\n",
    "    y = model.l1(x)\n",
    "    y = F.sigmoid(y)\n",
    "    y = model.l2(y)\n",
    "    return y\n",
    "\n",
    "for p in model.params():\n",
    "    print(p)\n",
    "    \n",
    "model.cleargrad()"
   ]
  },
  {
   "cell_type": "code",
   "execution_count": null,
   "metadata": {},
   "outputs": [],
   "source": [
    "class TwoLayerNet(Layer):\n",
    "    def __init__(self, hidden_size, out_size):\n",
    "        super().__init__()\n",
    "        self.l1 = L.Linear(hidden_size)\n",
    "        self.l2 = L.Linear(out_size)\n",
    "        \n",
    "    def forward(self, x):\n",
    "        y = F.sigmoid(self, l1(x))\n",
    "        y = self.l2(y)\n",
    "        return y\n",
    "    "
   ]
  },
  {
   "cell_type": "code",
   "execution_count": null,
   "metadata": {},
   "outputs": [],
   "source": [
    "from dezero import Variable, Model\n",
    "import dezero.layers as L\n",
    "import dezero.functions as F\n",
    "\n",
    "class TwoLayerNet(Model):\n",
    "    def __init__(self, hidden_size, out_size): #input size is defined by input data\n",
    "        super().__init__()\n",
    "        self.l1 = L.Linear(hidden_size)\n",
    "        self.l2 = L.Linear(out_size)\n",
    "    \n",
    "    def forward(self, x):\n",
    "        y = F.sigmoid(self.l1(x))\n",
    "        y = self.l2(y)\n",
    "        return y\n",
    "    \n",
    "x = Variable(np.random.randn(5, 10), name='x')\n",
    "model = TwoLayerNet(100, 10) \n",
    "model.plot(x)\n",
    "\n"
   ]
  },
  {
   "cell_type": "code",
   "execution_count": null,
   "metadata": {},
   "outputs": [],
   "source": [
    "import numpy as np\n",
    "from dezero import Variable, Model\n",
    "import dezero.layers as L\n",
    "import dezero.functions as F\n",
    "\n",
    "np.random.seed(0)\n",
    "x = np.random.rand(100, 1)\n",
    "y = np.sin(2 * np.pi * x) + np.random.rand(100, 1)\n",
    "lr = 0.2\n",
    "max_iter = 10000\n",
    "hidden_size = 10\n",
    "\n",
    "class TwoLayerNet(Model):\n",
    "    def __init__(self, hidden_size, out_size):\n",
    "        super().__init__()\n",
    "        self.l1 = L.Linear(hidden_size)\n",
    "        self.l2 = L.Linear(out_size)\n",
    "        \n",
    "    def forward(self, x):\n",
    "        y = F.sigmoid(self.l1(x))\n",
    "        y = self.l2(y)\n",
    "        return y\n",
    "    \n",
    "model = TwoLayerNet(hissen_size, 1)\n",
    "\n",
    "for i in range(max_iter):\n",
    "    y_pred = model(x)\n",
    "    loss = F.mean_squared_error(y, y_pred)\n",
    "    \n",
    "    model.cleargrad()\n",
    "    loss.backward()\n",
    "    \n",
    "    for p in model.params():\n",
    "        p.data -= lr * p.grad.data\n",
    "    if i % 1000 == 0:\n",
    "        print(loss)\n",
    "        \n",
    "        "
   ]
  },
  {
   "cell_type": "markdown",
   "metadata": {},
   "source": [
    "# Step 46"
   ]
  },
  {
   "cell_type": "code",
   "execution_count": null,
   "metadata": {},
   "outputs": [],
   "source": [
    "import numpy as np\n",
    "from dezero import Variable\n",
    "from dezero import optimizers\n",
    "import dezero.functions as F\n",
    "from dezero.models import MLP\n",
    "\n",
    "np.random.seed(0)\n",
    "x = np.random.rand(100, 1)\n",
    "y = np.sin(2 * np.pi * x) + np.random.rand(100, 1)\n",
    "\n",
    "lr = 0.2\n",
    "max_iter = 10000\n",
    "hidden_size = 10\n",
    "\n",
    "model = MLP((hidden_size, 1))\n",
    "optimizer = optimizers.SGD(lr)\n",
    "optimizer.setup(model)\n",
    "\n",
    "for i in range(max_iter):\n",
    "    y_pred = model(x)\n",
    "    loss = F.mean_squared_error(y, y_pred)\n",
    "    \n",
    "    model.cleargrads()\n",
    "    loss.backward()\n",
    "    \n",
    "    optimizer.update()\n",
    "    if i % 1000 == 0:\n",
    "        print(loss)"
   ]
  }
 ],
 "metadata": {
  "kernelspec": {
   "display_name": "Python 3",
   "language": "python",
   "name": "python3"
  },
  "language_info": {
   "codemirror_mode": {
    "name": "ipython",
    "version": 3
   },
   "file_extension": ".py",
   "mimetype": "text/x-python",
   "name": "python",
   "nbconvert_exporter": "python",
   "pygments_lexer": "ipython3",
   "version": "3.7.6"
  }
 },
 "nbformat": 4,
 "nbformat_minor": 4
}
